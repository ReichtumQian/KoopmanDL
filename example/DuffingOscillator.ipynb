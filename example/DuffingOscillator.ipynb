{
 "cells": [
  {
   "cell_type": "markdown",
   "metadata": {},
   "source": [
    "# EDMD-DL Tests on Duffing Oscillator"
   ]
  },
  {
   "cell_type": "markdown",
   "metadata": {},
   "source": [
    "## Train the Model"
   ]
  },
  {
   "cell_type": "markdown",
   "metadata": {},
   "source": [
    "Import necessary modules"
   ]
  },
  {
   "cell_type": "code",
   "execution_count": null,
   "metadata": {},
   "outputs": [],
   "source": [
    "import sys\n",
    "sys.path.append('..')\n",
    "import importlib\n",
    "import KoopmanDL as kdl\n",
    "import torch\n",
    "import matplotlib.pyplot as plt\n",
    "# importlib.reload(kdl)"
   ]
  },
  {
   "cell_type": "markdown",
   "metadata": {},
   "source": [
    "Generate the data set"
   ]
  },
  {
   "cell_type": "code",
   "execution_count": 2,
   "metadata": {},
   "outputs": [],
   "source": [
    "alpha = 1.0\n",
    "beta = -1.0\n",
    "delta = 0.5\n",
    "dt = 1e-3\n",
    "n_init = 1300\n",
    "traj_len = 10\n",
    "traj_t_step = 0.25\n",
    "x_min = -2\n",
    "x_max = 2\n",
    "seed = 0\n",
    "n_train = 10000\n",
    "n_valid = 3000\n",
    "\n",
    "duffing = kdl.DuffingOscillator(alpha, beta, delta)\n",
    "flowmap = kdl.ForwardEuler(dt)\n",
    "data_x_all = flowmap.generate_traj_data(duffing, n_init, traj_len, traj_t_step, x_min, x_max, seed)\n",
    "data_y_all = flowmap.generate_next_data(duffing, data_x_all, traj_t_step)\n",
    "dataset = kdl.DataSet(data_x_all, data_y_all)\n",
    "data_train, data_valid = dataset.split(n_train)"
   ]
  },
  {
   "cell_type": "markdown",
   "metadata": {},
   "source": [
    "Visualize train data"
   ]
  },
  {
   "cell_type": "code",
   "execution_count": null,
   "metadata": {},
   "outputs": [],
   "source": [
    "fig, (ax1,ax2) = plt.subplots(1,2,sharey=True, figsize=(10,5))\n",
    "data_x_train = data_train.data()\n",
    "ax1.plot(data_x_train[:,0], data_x_train[:,1], '.')\n",
    "ax1.set_xlabel(r'$x_{1}$')\n",
    "ax1.set_ylabel(r'$x_{2}$')\n",
    "data_y_train = data_train.labels()\n",
    "ax2.plot(data_y_train[:,0], data_y_train[:,1], '.')\n",
    "ax2.set_xlabel(r'$x_{1}$')\n",
    "ax2.set_ylabel(r'$x_{2}$')\n",
    "plt.tight_layout()"
   ]
  },
  {
   "cell_type": "markdown",
   "metadata": {},
   "source": [
    "Visualize validation data"
   ]
  },
  {
   "cell_type": "code",
   "execution_count": null,
   "metadata": {},
   "outputs": [],
   "source": [
    "fig, (ax1,ax2) = plt.subplots(1,2,sharey=True, figsize=(10,5))\n",
    "data_x_valid = data_valid.data()\n",
    "ax1.plot(data_x_valid[:,0], data_x_valid[:,1], '.')\n",
    "ax1.set_xlabel(r'$x_{1}$')\n",
    "ax1.set_ylabel(r'$x_{2}$')\n",
    "data_y_valid = data_valid.labels()\n",
    "ax2.plot(data_y_valid[:,0], data_y_valid[:,1], '.')\n",
    "ax2.set_xlabel(r'$x_{1}$')\n",
    "ax2.set_ylabel(r'$x_{2}$')\n",
    "plt.tight_layout()"
   ]
  },
  {
   "cell_type": "markdown",
   "metadata": {},
   "source": [
    "Build up the solver"
   ]
  },
  {
   "cell_type": "code",
   "execution_count": 5,
   "metadata": {},
   "outputs": [],
   "source": [
    "D = 2\n",
    "M = 25\n",
    "non_trainables = D + 1\n",
    "hidden_layer_sizes = [100, 100, 100]\n",
    "lr = 1e-4\n",
    "reg = 0.1\n",
    "reg_final = 0.01\n",
    "n_epochs = 3000\n",
    "batch_size = 10000\n",
    "\n",
    "\n",
    "net = kdl.TanhResNetWithNonTrainable(D, M, hidden_layer_sizes, non_trainables)\n",
    "opt = torch.optim.Adam(net.parameters(), lr)\n",
    "dic = kdl.TrainableDictionary(M, net, opt)\n",
    "solver = kdl.EDMDDLSolver(dic, reg)"
   ]
  },
  {
   "cell_type": "code",
   "execution_count": null,
   "metadata": {},
   "outputs": [],
   "source": [
    "# train\n",
    "solver.solve(data_x_train, data_y_train, n_epochs, batch_size)"
   ]
  },
  {
   "cell_type": "code",
   "execution_count": 7,
   "metadata": {},
   "outputs": [],
   "source": [
    "# compute eigenvalues and eigenvectors\n",
    "K = solver.compute_K(data_x_train, data_y_train, reg_final)\n",
    "solver.compute_eig(K)"
   ]
  },
  {
   "cell_type": "code",
   "execution_count": null,
   "metadata": {},
   "outputs": [],
   "source": [
    "# save to/load from file\n",
    "model_path = kdl.root_dir + '/model/DuffingOscillator.pth'\n",
    "# solver.save(model_path)\n",
    "solver.load(model_path)"
   ]
  },
  {
   "cell_type": "markdown",
   "metadata": {},
   "source": [
    "## Plot the Eigenvalues"
   ]
  },
  {
   "cell_type": "code",
   "execution_count": 8,
   "metadata": {},
   "outputs": [],
   "source": [
    "rbf_M = 100\n",
    "rbf_regularizer = 1e-4\n",
    "traj_len = 50\n",
    "\n",
    "rbf_basis_func = kdl.RBFDictionary(rbf_M, rbf_regularizer)\n",
    "rbf_basis_func.build(data_x_train)\n",
    "rbf_solver = kdl.EDMDSolver(rbf_basis_func)\n",
    "K = rbf_solver.compute_K(data_x_train, data_y_train)\n",
    "rbf_solver.compute_eig(K)"
   ]
  },
  {
   "cell_type": "code",
   "execution_count": null,
   "metadata": {},
   "outputs": [],
   "source": [
    "import numpy as np\n",
    "fig, (ax1, ax2) = plt.subplots(1, 2, figsize=(10, 5), sharex=False, sharey=True)\n",
    "ax1.scatter(solver.eigenvalues.real,solver.eigenvalues.imag)\n",
    "ax1.set_xlabel(r'Re$(\\mu)$')\n",
    "ax1.set_ylabel(r'Im$(\\mu)$')\n",
    "ax1.set_title('EDMD-DL')\n",
    "\n",
    "ax2.scatter(rbf_solver.eigenvalues.real, rbf_solver.eigenvalues.imag)\n",
    "ax2.set_xlabel(r'Re$(\\mu)$')\n",
    "ax2.set_title('EDMD (RBF)')\n",
    "\n",
    "fig.tight_layout()"
   ]
  },
  {
   "cell_type": "markdown",
   "metadata": {},
   "source": [
    "## Reconstruction"
   ]
  },
  {
   "cell_type": "code",
   "execution_count": 10,
   "metadata": {},
   "outputs": [],
   "source": [
    "n_init = 1\n",
    "traj_len = 50\n",
    "# seed = 111  # I don't know why, but the method seems not work well with seed 111.\n",
    "seed = 109\n",
    "traj_t_step = 0.25\n",
    "x_min = -2\n",
    "x_max = 2\n",
    "\n",
    "data_x_test = flowmap.generate_traj_data(duffing, n_init, traj_len, traj_t_step, x_min, x_max, seed)\n",
    "data_y_test = flowmap.generate_next_data(duffing, data_x_test, traj_t_step)\n",
    "x_traj = data_x_test\n",
    "\n",
    "x0_test = data_x_test[0].unsqueeze(0)\n",
    "x_est_traj_DL = solver.predict(x0_test, traj_len)\n",
    "x_est_traj_rbf = rbf_solver.predict(x0_test, traj_len)\n",
    "DL_error = torch.sqrt(torch.mean(torch.square(x_est_traj_DL - x_traj))) \n",
    "rbf_error = torch.sqrt(torch.mean(torch.square(x_est_traj_rbf - x_traj))) \n"
   ]
  },
  {
   "cell_type": "code",
   "execution_count": null,
   "metadata": {},
   "outputs": [],
   "source": [
    "fig, (ax1, ax2) = plt.subplots(1, 2, sharey=False, figsize=(12,5))  \n",
    "\n",
    "x_est_traj_DL = x_est_traj_DL.detach()\n",
    "# Plot\n",
    "t_grid = np.arange(0,traj_len)\n",
    "ax1.plot(t_grid, x_traj[:,0], 'k-', label='Exact', markevery=2)\n",
    "ax1.plot(t_grid, x_est_traj_DL[:,0], 'bo', label='EDMD-DL', markevery=2)\n",
    "ax1.plot(t_grid, x_est_traj_rbf[:,0], 'gs', label='EDMD (RBF)', markevery=2)\n",
    "    \n",
    "ax2.plot(t_grid, x_traj[:,1], 'k-', label='Exact', markevery=2)\n",
    "ax2.plot(t_grid, x_est_traj_DL[:,1], 'bo', label='EDMD-DL', markevery=2)\n",
    "ax2.plot(t_grid, x_est_traj_rbf[:,1], 'gs', label='EDMD (RBF)', markevery=2)\n",
    "\n",
    "ax1.set_xlabel(r\"$n$\")\n",
    "ax1.set_ylabel(r\"$x_{1}(n)$\")\n",
    "ax1.legend(loc='best',prop={'size':14})\n",
    "\n",
    "ax2.set_xlabel(r\"$n$\")\n",
    "ax2.set_ylabel(r\"$x_{2}(n)$\")\n",
    "ax2.legend(loc='best',prop={'size':14})\n"
   ]
  },
  {
   "cell_type": "markdown",
   "metadata": {},
   "source": [
    "## Check eigenfunction quality"
   ]
  },
  {
   "cell_type": "code",
   "execution_count": 20,
   "metadata": {},
   "outputs": [
    {
     "name": "stdout",
     "output_type": "stream",
     "text": [
      "DL Eigenfunction errors:\n",
      " tensor([1.5516e-05, 4.1897e-06, 1.2866e-05, 1.2866e-05, 1.4841e-05, 1.0341e-05,\n",
      "        1.0341e-05, 1.5658e-05], grad_fn=<SliceBackward0>)\n",
      "rbf Eigenfunction errors:\n",
      " tensor([7.8393e-06, 2.2139e-17, 3.7515e-06, 3.7515e-06, 6.6722e-06, 6.6722e-06,\n",
      "        7.7131e-06, 7.7131e-06], dtype=torch.float64)\n"
     ]
    }
   ],
   "source": [
    "# Generate dynamical data\n",
    "xmin, xmax = -2, 2\n",
    "dim = 2\n",
    "ds = 0.2\n",
    "num_print = 8\n",
    "x_grid = torch.tensor(np.mgrid[xmin:xmax+ds:ds, xmin:xmax+ds:ds].reshape(dim,-1).T).to(torch.float)\n",
    "\n",
    "# DL\n",
    "phi_DL = solver.eigenfunctions(x_grid).t()\n",
    "phif_DL = solver.eigenfunctions(flowmap.generate_next_data(duffing, x_grid, traj_t_step)).t()\n",
    "mu_DL = solver.eigenvalues\n",
    "error_DL = torch.mean(((phi_DL*mu_DL)-phif_DL)**2 , axis=0)\n",
    "print(\"DL Eigenfunction errors:\\n\", torch.abs(error_DL)[0:8])\n",
    "\n",
    "\n",
    "# rbf\n",
    "phi_rbf = rbf_solver.eigenfunctions(x_grid).t()\n",
    "phif_rbf = rbf_solver.eigenfunctions(flowmap.generate_next_data(duffing, x_grid, traj_t_step)).t()\n",
    "mu_rbf = rbf_solver.eigenvalues\n",
    "error_rbf = torch.mean( ((phi_rbf*mu_rbf)-phif_rbf)**2 , axis=0)\n",
    "print(\"rbf Eigenfunction errors:\\n\", torch.abs(error_rbf)[0:8])"
   ]
  },
  {
   "cell_type": "code",
   "execution_count": 23,
   "metadata": {},
   "outputs": [
    {
     "data": {
      "image/png": "[encoded data removed]",
      "text/plain": [
       "<Figure size 640x480 with 1 Axes>"
      ]
     },
     "metadata": {},
     "output_type": "display_data"
    }
   ],
   "source": [
    "ax = plt.axes()\n",
    "plt.semilogy(np.sqrt(np.abs(error_DL.detach().numpy())[0:8]), \"bo\", label=\"EDMD-DL\")\n",
    "plt.semilogy(np.sqrt(np.abs(error_rbf.detach().numpy()[0:8])), \"gs\", label=\"EDMD (RBF)\")\n",
    "plt.legend(loc=\"best\", fontsize='x-small')\n",
    "ax.set_xticks(np.arange(8))\n",
    "ax.set_xticklabels(np.arange(1, 9))\n",
    "ax.set_xlabel(\"j\")\n",
    "ax.set_ylabel(r\"$E_j$\")\n",
    "ax.set_ylim([1e-6, 1e1])\n",
    "plt.tight_layout()"
   ]
  }
 ],
 "metadata": {
  "kernelspec": {
   "display_name": "Python 3",
   "language": "python",
   "name": "python3"
  },
  "language_info": {
   "codemirror_mode": {
    "name": "ipython",
    "version": 3
   },
   "file_extension": ".py",
   "mimetype": "text/x-python",
   "name": "python",
   "nbconvert_exporter": "python",
   "pygments_lexer": "ipython3",
   "version": "3.8.19"
  }
 },
 "nbformat": 4,
 "nbformat_minor": 2
}
